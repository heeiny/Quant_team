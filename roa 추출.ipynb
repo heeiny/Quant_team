{
 "cells": [
  {
   "cell_type": "code",
   "execution_count": 22,
   "metadata": {},
   "outputs": [],
   "source": [
    "import pandas as pd\n",
    "import requests"
   ]
  },
  {
   "cell_type": "markdown",
   "metadata": {},
   "source": [
    "#### ROE\n",
    "* 자기자본이익률 = 당기순이익 / 평균자기자본 * 100 (%) \n",
    "* 평균자기자본 = 기말자기자본과 기초 자기자본의 평균 "
   ]
  },
  {
   "cell_type": "markdown",
   "metadata": {},
   "source": [
    "fnguide에서 roa, roe 데이터 추출 "
   ]
  },
  {
   "cell_type": "code",
   "execution_count": 17,
   "metadata": {},
   "outputs": [],
   "source": [
    "def get_roa(code, year):\n",
    "    url = 'https://comp.fnguide.com/SVO2/ASP/SVD_FinanceRatio.asp?pGB=1&gicode=' + code + \\\n",
    "        '&clD=&MenuYn=Y&ReportGB=&NewMenuID=104&stkGb=701'\n",
    "    fr_page = requests.get(url)\n",
    "    fr_tables = pd.read_html(fr_page.text)\n",
    "    temp_df = fr_tables[0]\n",
    "    temp_df = temp_df.set_index(temp_df.columns[0])\n",
    "    temp_df = temp_df.loc[['ROA계산에 참여한 계정 펼치기', 'ROE계산에 참여한 계정 펼치기']]\n",
    "    temp_df.index = ['ROA', 'ROE']\n",
    "    temp_df = pd.DataFrame({code : temp_df[year]})\n",
    "    temp_df = temp_df.transpose()\n",
    "    return temp_df\n"
   ]
  },
  {
   "cell_type": "code",
   "execution_count": 21,
   "metadata": {},
   "outputs": [
    {
     "data": {
      "text/html": [
       "<div>\n",
       "<style scoped>\n",
       "    .dataframe tbody tr th:only-of-type {\n",
       "        vertical-align: middle;\n",
       "    }\n",
       "\n",
       "    .dataframe tbody tr th {\n",
       "        vertical-align: top;\n",
       "    }\n",
       "\n",
       "    .dataframe thead th {\n",
       "        text-align: right;\n",
       "    }\n",
       "</style>\n",
       "<table border=\"1\" class=\"dataframe\">\n",
       "  <thead>\n",
       "    <tr style=\"text-align: right;\">\n",
       "      <th></th>\n",
       "      <th>ROA</th>\n",
       "      <th>ROE</th>\n",
       "    </tr>\n",
       "  </thead>\n",
       "  <tbody>\n",
       "    <tr>\n",
       "      <th>A005930</th>\n",
       "      <td>9.9</td>\n",
       "      <td>13.9</td>\n",
       "    </tr>\n",
       "  </tbody>\n",
       "</table>\n",
       "</div>"
      ],
      "text/plain": [
       "         ROA   ROE\n",
       "A005930  9.9  13.9"
      ]
     },
     "execution_count": 21,
     "metadata": {},
     "output_type": "execute_result"
    }
   ],
   "source": [
    "get_roa('A005930', '2021/12')"
   ]
  },
  {
   "cell_type": "code",
   "execution_count": null,
   "metadata": {},
   "outputs": [],
   "source": []
  }
 ],
 "metadata": {
  "kernelspec": {
   "display_name": "Python 3.10.2 64-bit",
   "language": "python",
   "name": "python3"
  },
  "language_info": {
   "codemirror_mode": {
    "name": "ipython",
    "version": 3
   },
   "file_extension": ".py",
   "mimetype": "text/x-python",
   "name": "python",
   "nbconvert_exporter": "python",
   "pygments_lexer": "ipython3",
   "version": "3.10.2"
  },
  "orig_nbformat": 4,
  "vscode": {
   "interpreter": {
    "hash": "3616202d843295ba0adc4661fbe95f911af65f4e4c349ed4be46f0741a4f83b1"
   }
  }
 },
 "nbformat": 4,
 "nbformat_minor": 2
}
