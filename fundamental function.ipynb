{
 "cells": [
  {
   "cell_type": "code",
   "execution_count": 1,
   "metadata": {},
   "outputs": [
    {
     "name": "stderr",
     "output_type": "stream",
     "text": [
      "C:\\Users\\0327c\\AppData\\Local\\Temp\\ipykernel_11088\\116122198.py:5: DeprecationWarning: the imp module is deprecated in favour of importlib and slated for removal in Python 3.12; see the module's documentation for alternative uses\n",
      "  import imp\n"
     ]
    },
    {
     "data": {
      "text/plain": [
       "<module 'functions' from 'c:\\\\수익왕 김퀀트\\\\functions.py'>"
      ]
     },
     "execution_count": 1,
     "metadata": {},
     "output_type": "execute_result"
    }
   ],
   "source": [
    "from pykrx import stock\n",
    "import pandas as pd\n",
    "import numpy as np\n",
    "import functions as func\n",
    "import imp\n",
    "imp.reload(func)"
   ]
  },
  {
   "cell_type": "code",
   "execution_count": 2,
   "metadata": {},
   "outputs": [
    {
     "data": {
      "text/html": [
       "<div>\n",
       "<style scoped>\n",
       "    .dataframe tbody tr th:only-of-type {\n",
       "        vertical-align: middle;\n",
       "    }\n",
       "\n",
       "    .dataframe tbody tr th {\n",
       "        vertical-align: top;\n",
       "    }\n",
       "\n",
       "    .dataframe thead th {\n",
       "        text-align: right;\n",
       "    }\n",
       "</style>\n",
       "<table border=\"1\" class=\"dataframe\">\n",
       "  <thead>\n",
       "    <tr style=\"text-align: right;\">\n",
       "      <th></th>\n",
       "      <th>PER</th>\n",
       "      <th>BPS</th>\n",
       "    </tr>\n",
       "    <tr>\n",
       "      <th>티커</th>\n",
       "      <th></th>\n",
       "      <th></th>\n",
       "    </tr>\n",
       "  </thead>\n",
       "  <tbody>\n",
       "    <tr>\n",
       "      <th>060310</th>\n",
       "      <td>187.50</td>\n",
       "      <td>792</td>\n",
       "    </tr>\n",
       "    <tr>\n",
       "      <th>095570</th>\n",
       "      <td>4.69</td>\n",
       "      <td>8075</td>\n",
       "    </tr>\n",
       "    <tr>\n",
       "      <th>006840</th>\n",
       "      <td>0.00</td>\n",
       "      <td>45961</td>\n",
       "    </tr>\n",
       "    <tr>\n",
       "      <th>054620</th>\n",
       "      <td>9.67</td>\n",
       "      <td>10088</td>\n",
       "    </tr>\n",
       "    <tr>\n",
       "      <th>265520</th>\n",
       "      <td>4.55</td>\n",
       "      <td>12713</td>\n",
       "    </tr>\n",
       "    <tr>\n",
       "      <th>...</th>\n",
       "      <td>...</td>\n",
       "      <td>...</td>\n",
       "    </tr>\n",
       "    <tr>\n",
       "      <th>000547</th>\n",
       "      <td>0.00</td>\n",
       "      <td>0</td>\n",
       "    </tr>\n",
       "    <tr>\n",
       "      <th>000545</th>\n",
       "      <td>0.00</td>\n",
       "      <td>0</td>\n",
       "    </tr>\n",
       "    <tr>\n",
       "      <th>003280</th>\n",
       "      <td>15.76</td>\n",
       "      <td>428</td>\n",
       "    </tr>\n",
       "    <tr>\n",
       "      <th>037440</th>\n",
       "      <td>17.59</td>\n",
       "      <td>4769</td>\n",
       "    </tr>\n",
       "    <tr>\n",
       "      <th>238490</th>\n",
       "      <td>0.00</td>\n",
       "      <td>6598</td>\n",
       "    </tr>\n",
       "  </tbody>\n",
       "</table>\n",
       "<p>2467 rows × 2 columns</p>\n",
       "</div>"
      ],
      "text/plain": [
       "           PER    BPS\n",
       "티커                   \n",
       "060310  187.50    792\n",
       "095570    4.69   8075\n",
       "006840    0.00  45961\n",
       "054620    9.67  10088\n",
       "265520    4.55  12713\n",
       "...        ...    ...\n",
       "000547    0.00      0\n",
       "000545    0.00      0\n",
       "003280   15.76    428\n",
       "037440   17.59   4769\n",
       "238490    0.00   6598\n",
       "\n",
       "[2467 rows x 2 columns]"
      ]
     },
     "execution_count": 2,
     "metadata": {},
     "output_type": "execute_result"
    }
   ],
   "source": [
    "# 원하는 일자의 펀더멘털 데이터를 추출하는 함수 \n",
    "# 입력한 일자가 휴일이면 그 근처의 영업일로 데이터프레임을 추출\n",
    "func.choose_func('20220806', 'PER', 'BPS')"
   ]
  },
  {
   "cell_type": "code",
   "execution_count": 3,
   "metadata": {},
   "outputs": [
    {
     "data": {
      "text/plain": [
       "'20220801'"
      ]
     },
     "execution_count": 3,
     "metadata": {},
     "output_type": "execute_result"
    }
   ],
   "source": [
    "# 실제로 위 함수에 적용된 영업일을 추출\n",
    "func.date_func('20220801')"
   ]
  },
  {
   "cell_type": "markdown",
   "metadata": {},
   "source": [
    "##### BPS(Book-value per Share : 주당순자산가치;청산가치)\n",
    "* 순자산(공장이 문을 닫을 때 갚을 돈 갚은 후 남는 돈) / 발행 주식 수\n",
    "* 기업 청산 후 자산을 주주들에게 나눠줄 경우 한주당 얼마씩 돌아가는지를 나타내는 지표"
   ]
  },
  {
   "cell_type": "markdown",
   "metadata": {},
   "source": [
    "##### PBR(Price Book-value Ratio: 주가순자산비율) \n",
    "* 현재 주가 / BPS \n",
    "* 기업의 주당 순자산가치에 비해 주가가 얼마나 비싼지를 나타내는 지표 \n",
    "* 동종 업계의 PBR을 비교해봐야 함"
   ]
  },
  {
   "cell_type": "markdown",
   "metadata": {},
   "source": [
    "##### EPS(Earning Per Share)\n",
    "* 당기순이익 / 총 주식수\n",
    "* 기업이 1주당 얼마의 순이익을 냈는가를 나타내는 지표"
   ]
  },
  {
   "cell_type": "markdown",
   "metadata": {},
   "source": [
    "##### PER(Price Earning Ratio: 주가수익비율)\n",
    "* 주가 / 주당순이익(EPS)\n",
    "* 주가가 주당순이익의 몇배인지를 나타내주는 지표 \n",
    "* PER이 낮으면 주식이 저평가되어있다고 볼 수 있다. PER이 높은 경우 고평가되어있다고 볼 수도 있지만 시장에서 주목을 받고 있는 성장성이 있는 기업이라고 분석해볼 수도 있다."
   ]
  },
  {
   "cell_type": "markdown",
   "metadata": {},
   "source": [
    "##### DPS(Dividended Per Share: 주당배당금)\n"
   ]
  },
  {
   "cell_type": "markdown",
   "metadata": {},
   "source": [
    "##### DIV(Dividend: 시가배당률)\n",
    "* 주당 배당금 / 현재주가\n",
    "* 시가배당율이 예금 금리보다 높으면 싸고, 은행 예금금리보다 낮으면 비싸다는 식으로 주가를 평가하기도 함"
   ]
  },
  {
   "cell_type": "code",
   "execution_count": null,
   "metadata": {},
   "outputs": [],
   "source": []
  },
  {
   "cell_type": "code",
   "execution_count": null,
   "metadata": {},
   "outputs": [],
   "source": []
  }
 ],
 "metadata": {
  "kernelspec": {
   "display_name": "Python 3.10.2 64-bit",
   "language": "python",
   "name": "python3"
  },
  "language_info": {
   "codemirror_mode": {
    "name": "ipython",
    "version": 3
   },
   "file_extension": ".py",
   "mimetype": "text/x-python",
   "name": "python",
   "nbconvert_exporter": "python",
   "pygments_lexer": "ipython3",
   "version": "3.10.2"
  },
  "orig_nbformat": 4,
  "vscode": {
   "interpreter": {
    "hash": "3616202d843295ba0adc4661fbe95f911af65f4e4c349ed4be46f0741a4f83b1"
   }
  }
 },
 "nbformat": 4,
 "nbformat_minor": 2
}
